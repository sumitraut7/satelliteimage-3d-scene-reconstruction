{
 "cells": [
  {
   "cell_type": "code",
   "execution_count": 7,
   "id": "2bcd2295-3004-4b96-b3ab-c996d491c9f7",
   "metadata": {},
   "outputs": [
    {
     "name": "stdout",
     "output_type": "stream",
     "text": [
      "Saved 47 frames to 'data/single'\n"
     ]
    }
   ],
   "source": [
    "import cv2\n",
    "import os\n",
    "\n",
    "video_path = 'single.mov'  # Replace with your video filename\n",
    "\n",
    "output_dir = 'data/single'\n",
    "os.makedirs(output_dir, exist_ok=True)\n",
    "\n",
    "# Frame extraction rate\n",
    "frame_interval = 120  # Change to 5 for more images, or 30 for fewer\n",
    "\n",
    "cap = cv2.VideoCapture(video_path)\n",
    "frame_count = 0\n",
    "saved_count = 0\n",
    "\n",
    "while cap.isOpened():\n",
    "    ret, frame = cap.read()\n",
    "    if not ret:\n",
    "        break\n",
    "\n",
    "    # Save every Nth frame\n",
    "    if frame_count % frame_interval == 0:\n",
    "        frame_filename = os.path.join(output_dir, f\"frame_{saved_count:04d}.jpg\")\n",
    "        cv2.imwrite(frame_filename, frame)\n",
    "        saved_count += 1\n",
    "\n",
    "    frame_count += 1\n",
    "\n",
    "cap.release()\n",
    "print(f\"Saved {saved_count} frames to '{output_dir}'\")"
   ]
  },
  {
   "cell_type": "code",
   "execution_count": 2,
   "id": "1a6cb8c8-3f1e-4dea-ab59-0c54531e479b",
   "metadata": {},
   "outputs": [
    {
     "name": "stdout",
     "output_type": "stream",
     "text": [
      "Processing Screen Recording 2025-06-04 at 4.45.51 PM.mov...\n",
      "Saved 36 frames from 'Screen Recording 2025-06-04 at 4.45.51 PM.mov'\n",
      "Processing Screen Recording 2025-06-04 at 4.43.59 PM.mov...\n",
      "Saved 24 frames from 'Screen Recording 2025-06-04 at 4.43.59 PM.mov'\n",
      "Processing Screen Recording 2025-06-04 at 2.04.17 PM.mov...\n",
      "Saved 33 frames from 'Screen Recording 2025-06-04 at 2.04.17 PM.mov'\n",
      "Processing Screen Recording 2025-06-04 at 4.41.03 PM.mov...\n",
      "Saved 27 frames from 'Screen Recording 2025-06-04 at 4.41.03 PM.mov'\n",
      "Processing Screen Recording 2025-06-04 at 4.37.50 PM.mov...\n",
      "Saved 23 frames from 'Screen Recording 2025-06-04 at 4.37.50 PM.mov'\n",
      "Processing Screen Recording 2025-06-04 at 4.44.48 PM.mov...\n",
      "Saved 25 frames from 'Screen Recording 2025-06-04 at 4.44.48 PM.mov'\n",
      "Processing Screen Recording 2025-06-04 at 4.43.15 PM.mov...\n",
      "Saved 19 frames from 'Screen Recording 2025-06-04 at 4.43.15 PM.mov'\n",
      "Processing Screen Recording 2025-06-04 at 4.39.15 PM.mov...\n",
      "Saved 30 frames from 'Screen Recording 2025-06-04 at 4.39.15 PM.mov'\n",
      "Processing Screen Recording 2025-06-04 at 4.46.49 PM.mov...\n",
      "Saved 36 frames from 'Screen Recording 2025-06-04 at 4.46.49 PM.mov'\n",
      "Processing Screen Recording 2025-06-04 at 2.03.08 PM.mov...\n",
      "Saved 21 frames from 'Screen Recording 2025-06-04 at 2.03.08 PM.mov'\n",
      "Processing Screen Recording 2025-06-04 at 4.42.19 PM.mov...\n",
      "Saved 30 frames from 'Screen Recording 2025-06-04 at 4.42.19 PM.mov'\n",
      "Done extracting all frames to one directory.\n"
     ]
    }
   ],
   "source": [
    "import cv2\n",
    "import os\n",
    "\n",
    "video_dir = 'recordings' \n",
    "output_dir = 'data/temporal'\n",
    "os.makedirs(output_dir, exist_ok=True)\n",
    "\n",
    "frame_interval = 60  \n",
    "video_extensions = ('.mp4', '.mov', '.avi', '.mkv')\n",
    "\n",
    "for video_filename in os.listdir(video_dir):\n",
    "    if not video_filename.lower().endswith(video_extensions):\n",
    "        continue\n",
    "\n",
    "    video_path = os.path.join(video_dir, video_filename)\n",
    "    video_name = os.path.splitext(video_filename)[0]\n",
    "\n",
    "    cap = cv2.VideoCapture(video_path)\n",
    "    frame_count = 0\n",
    "    saved_count = 0\n",
    "    print(f\"Processing {video_filename}...\")\n",
    "    while cap.isOpened():\n",
    "        ret, frame = cap.read()\n",
    "        if not ret:\n",
    "            break\n",
    "\n",
    "        if frame_count % frame_interval == 0:\n",
    "            frame_filename = os.path.join(\n",
    "                output_dir, f\"{video_name}_frame_{saved_count:04d}.jpg\"\n",
    "            )\n",
    "            cv2.imwrite(frame_filename, frame)\n",
    "            saved_count += 1\n",
    "\n",
    "        frame_count += 1\n",
    "\n",
    "    cap.release()\n",
    "    print(f\"Saved {saved_count} frames from '{video_filename}'\")\n",
    "\n",
    "print(\"Done extracting all frames to one directory.\")"
   ]
  },
  {
   "cell_type": "code",
   "execution_count": null,
   "id": "39a6a8af-0a5a-4d9d-b07d-9bd231b6014a",
   "metadata": {},
   "outputs": [],
   "source": []
  }
 ],
 "metadata": {
  "kernelspec": {
   "display_name": "Python 3 (ipykernel)",
   "language": "python",
   "name": "python3"
  },
  "language_info": {
   "codemirror_mode": {
    "name": "ipython",
    "version": 3
   },
   "file_extension": ".py",
   "mimetype": "text/x-python",
   "name": "python",
   "nbconvert_exporter": "python",
   "pygments_lexer": "ipython3",
   "version": "3.9.18"
  }
 },
 "nbformat": 4,
 "nbformat_minor": 5
}
